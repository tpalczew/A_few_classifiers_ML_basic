{
 "cells": [
  {
   "cell_type": "code",
   "execution_count": 1,
   "metadata": {},
   "outputs": [],
   "source": [
    "# UCI Machine Learning Repository - http://archive.ics.uci.edu/ml/datasets.html\n",
    "\n",
    "# banking.csv\n",
    "# banking-batch.csv\n",
    "\n",
    "# Example showing how to use sklearn to make some simple ML, nothing more than that.  \n",
    "# Always remember to check your data first, look for corelations, try to understand how data is clustered, \n",
    "# maybe using simple statistical tools you can get what you want. \n",
    "# If you need ML/DL start with a quick implementation and see how you can improve from that.\n",
    "# \n"
   ]
  },
  {
   "cell_type": "code",
   "execution_count": 2,
   "metadata": {},
   "outputs": [
    {
     "name": "stderr",
     "output_type": "stream",
     "text": [
      "/Users/tpalczewski/Library/Python/2.7/lib/python/site-packages/matplotlib/font_manager.py:273: UserWarning: Matplotlib is building the font cache using fc-list. This may take a moment.\n",
      "  warnings.warn('Matplotlib is building the font cache using fc-list. This may take a moment.')\n"
     ]
    },
    {
     "name": "stdout",
     "output_type": "stream",
     "text": [
      "{'y': '0', 'cons_price_idx': '93.075', 'poutcome': 'failure', 'emp_var_rate': '-1.8', 'campaign': '2', 'default': 'no', 'age': '27', 'day_of_week': 'thu', 'marital': 'single', 'nr_employed': '5099.1', 'job': 'blue-collar', 'contact': 'cellular', 'euribor3m': '1.41', 'month': 'apr', 'duration': '191', 'cons_conf_idx': '-47.1', 'loan': 'no', 'education': 'basic.4y', 'pdays': '999', 'housing': 'yes', 'previous': '1'}\n",
      "{'y': '0', 'cons_price_idx': '93.994', 'poutcome': 'nonexistent', 'emp_var_rate': '1.1', 'campaign': '2', 'default': 'no', 'age': '34', 'day_of_week': 'fri', 'marital': 'single', 'nr_employed': '5191', 'job': 'housemaid', 'contact': 'telephone', 'euribor3m': '4.864', 'month': 'may', 'duration': '62', 'cons_conf_idx': '-36.4', 'loan': 'no', 'education': 'university.degree', 'pdays': '999', 'housing': 'no', 'previous': '0'}\n",
      "{'y': '0', 'cons_price_idx': '93.444', 'poutcome': 'nonexistent', 'emp_var_rate': '1.4', 'campaign': '1', 'default': 'no', 'age': '41', 'day_of_week': 'thu', 'marital': 'married', 'nr_employed': '5228.1', 'job': 'management', 'contact': 'cellular', 'euribor3m': '4.964', 'month': 'aug', 'duration': '789', 'cons_conf_idx': '-36.1', 'loan': 'no', 'education': 'university.degree', 'pdays': '999', 'housing': 'yes', 'previous': '0'}\n",
      "Number of all customers in the csvfile1 = 41188\n"
     ]
    }
   ],
   "source": [
    "import numpy as np\n",
    "import csv\n",
    "import matplotlib.pyplot as plt\n",
    "import seaborn as sns\n",
    "\n",
    "# file that contains the historical data for customers who have purchased products \n",
    "name1 = '/Users/tpalczewski/Downloads/banking.csv' # \n",
    "\n",
    "# potential customers\n",
    "name2 = '/Users/tpalczewski/Downloads/banking-batch.csv'\n",
    "\n",
    "csvfile1 = open(name1, 'rb')\n",
    "csvfile2 = open(name2, 'rb')\n",
    "\n",
    "reader1 = csv.DictReader(csvfile1)\n",
    "reader2 = csv.DictReader(csvfile2)\n",
    "\n",
    "i = 0\n",
    "for row in reader1:\n",
    "    if i == 9 or i ==10 or i == 11:\n",
    "        print row # just three examples to have a feeling; first row is a header\n",
    "    i += 1\n",
    "print(\"Number of all customers in the csvfile1 = \" + str(i))"
   ]
  },
  {
   "cell_type": "code",
   "execution_count": 3,
   "metadata": {},
   "outputs": [],
   "source": [
    "# Input variables:\n",
    "# bank client data:\n",
    "# 1 - age (numeric)\n",
    "# 2 - job : type of job (categorical: 'admin.','blue-collar','entrepreneur','housemaid','management','retired','self-employed','services','student','technician','unemployed','unknown')\n",
    "# 3 - marital : marital status (categorical: 'divorced','married','single','unknown'; note: 'divorced' means divorced or widowed)\n",
    "# 4 - education (categorical: 'basic.4y','basic.6y','basic.9y','high.school','illiterate','professional.course','university.degree','unknown')\n",
    "# 5 - default: has credit in default? (categorical: 'no','yes','unknown')\n",
    "# 6 - housing: has housing loan? (categorical: 'no','yes','unknown')\n",
    "# 7 - loan: has personal loan? (categorical: 'no','yes','unknown')\n",
    "# related with the last contact of the current campaign:\n",
    "# 8 - contact: contact communication type (categorical: 'cellular','telephone') \n",
    "# 9 - month: last contact month of year (categorical: 'jan', 'feb', 'mar', ..., 'nov', 'dec')\n",
    "# 10 - day_of_week: last contact day of the week (categorical: 'mon','tue','wed','thu','fri')\n",
    "# 11 - duration: last contact duration, in seconds (numeric). Important note: this attribute highly affects the output target (e.g., if duration=0 then y='no'). Yet, the duration is not known before a call is performed. Also, after the end of the call y is obviously known. Thus, this input should only be included for benchmark purposes and should be discarded if the intention is to have a realistic predictive model.\n",
    "# other attributes:\n",
    "# 12 - campaign: number of contacts performed during this campaign and for this client (numeric, includes last contact)\n",
    "# 13 - pdays: number of days that passed by after the client was last contacted from a previous campaign (numeric; 999 means client was not previously contacted)\n",
    "# 14 - previous: number of contacts performed before this campaign and for this client (numeric)\n",
    "# 15 - poutcome: outcome of the previous marketing campaign (categorical: 'failure','nonexistent','success')\n",
    "# social and economic context attributes\n",
    "# 16 - emp.var.rate: employment variation rate - quarterly indicator (numeric)\n",
    "# 17 - cons.price.idx: consumer price index - monthly indicator (numeric) \n",
    "# 18 - cons.conf.idx: consumer confidence index - monthly indicator (numeric) \n",
    "# 19 - euribor3m: euribor 3 month rate - daily indicator (numeric)\n",
    "# 20 - nr.employed: number of employees - quarterly indicator (numeric)\n",
    "\n",
    "# Output variable (desired target):\n",
    "# 21 - y - has the client subscribed a term deposit? (binary: 'yes','no')"
   ]
  },
  {
   "cell_type": "code",
   "execution_count": 4,
   "metadata": {
    "scrolled": false
   },
   "outputs": [
    {
     "name": "stdout",
     "output_type": "stream",
     "text": [
      "{'cons_price_idx': '93.994', 'poutcome': 'nonexistent', 'emp_var_rate': '1.1', 'campaign': '1', 'default': 'unknown', 'age': '35', 'day_of_week': 'thu', 'marital': 'married', 'nr_employed': '5191', 'job': 'blue-collar', 'contact': 'telephone', 'euribor3m': '4.855', 'month': 'may', 'duration': '170', 'cons_conf_idx': '-36.4', 'loan': 'no', 'education': 'basic.9y', 'pdays': '999', 'housing': 'no', 'previous': '0'}\n",
      "Number of all customers in the csvfile2 = 4119\n"
     ]
    }
   ],
   "source": [
    "i = 0\n",
    "for row in reader2:\n",
    "    if i == 9:\n",
    "        print row\n",
    "    i += 1\n",
    "print(\"Number of all customers in the csvfile2 = \" + str(i))"
   ]
  },
  {
   "cell_type": "code",
   "execution_count": 5,
   "metadata": {},
   "outputs": [],
   "source": [
    "# ['age,job,marital,education,default,housing,loan,contact,month,day_of_week,duration,campaign,pdays,previous,poutcome,emp_var_rate,cons_price_idx,cons_conf_idx,euribor3m,nr_employed,y']"
   ]
  },
  {
   "cell_type": "code",
   "execution_count": 6,
   "metadata": {},
   "outputs": [],
   "source": [
    "# lists\n",
    "age = []\n",
    "job = []\n",
    "marital = []\n",
    "education = []\n",
    "default = []\n",
    "housing = []\n",
    "loan = []\n",
    "contact = []\n",
    "month = []\n",
    "day_of_week = []\n",
    "duration = []\n",
    "campaign = []\n",
    "pdays = []\n",
    "previous = []\n",
    "poutcome = []\n",
    "emp_var_rate = []\n",
    "cons_price_idx = []\n",
    "cons_conf_idx = []\n",
    "euribor3m = []\n",
    "nr_employed = []\n",
    "y = []  # we are assuming that this is our label; is or not a good candidate to make a special offer for her/him, ... \n",
    "\n",
    "flag = [] # if == 1 from file that contains the historical data for customers who have purchased products; 0 - potential clients\n",
    "\n",
    "# counters\n",
    "count_all = 0"
   ]
  },
  {
   "cell_type": "code",
   "execution_count": 7,
   "metadata": {},
   "outputs": [],
   "source": [
    "i = 0\n",
    "with open(name1, 'rb') as csvfile:\n",
    "    reader1 = csv.DictReader(csvfile)\n",
    "    for row in reader1:\n",
    "        #\n",
    "        #\n",
    "        age.append(row['age'])\n",
    "        job.append(row['job'])\n",
    "        marital.append(row['marital'])\n",
    "        education.append(row['education'])\n",
    "        default.append(row['default'])\n",
    "        housing.append(row['housing'])\n",
    "        loan.append(row['loan'])\n",
    "        contact.append(row['contact'])\n",
    "        month.append(row['month'])\n",
    "        day_of_week.append(row['day_of_week'])\n",
    "        duration.append(row['duration'])\n",
    "        campaign.append(row['campaign'])\n",
    "        pdays.append(row['pdays'])\n",
    "        previous.append(row['previous'])\n",
    "        poutcome.append(row['poutcome'])\n",
    "        emp_var_rate.append(row['emp_var_rate'])\n",
    "        cons_price_idx.append(row['cons_price_idx'])\n",
    "        cons_conf_idx.append(row['cons_conf_idx'])\n",
    "        euribor3m.append(row['euribor3m'])\n",
    "        nr_employed.append(row['nr_employed'])\n",
    "        y.append(row['y'])\n",
    "        flag.append(1)\n",
    "        count_all += 1\n",
    "        i += 1"
   ]
  },
  {
   "cell_type": "code",
   "execution_count": 8,
   "metadata": {},
   "outputs": [],
   "source": [
    "# We have some data, now I would explore all the features/variables \n",
    "# do necessary cleaning \n",
    "# If needed do some data enginearing \n",
    "# but in this basic example I'm skipping these crucial parts\n",
    "\n",
    "\n",
    "# So let's make a classifier - to see if we can figure out which potential costomers \n",
    "# BDT, SVM, random forest "
   ]
  },
  {
   "cell_type": "code",
   "execution_count": 9,
   "metadata": {},
   "outputs": [],
   "source": [
    "import sklearn\n",
    "from sklearn import datasets, linear_model\n",
    "from sklearn.metrics import mean_squared_error, r2_score\n",
    "from sklearn.metrics import classification_report\n",
    "from sklearn.metrics import confusion_matrix\n",
    "from sklearn.metrics import accuracy_score\n",
    "\n",
    "from sklearn.svm import SVR\n",
    "\n",
    "# Import function to create training and test set splits\n",
    "from sklearn.cross_validation import train_test_split"
   ]
  },
  {
   "cell_type": "code",
   "execution_count": 10,
   "metadata": {},
   "outputs": [],
   "source": [
    "# Import function to automatically create polynomial features!\n",
    "from sklearn.preprocessing import PolynomialFeatures\n",
    "\n",
    "# Import Linear Regression and a regularized regression function\n",
    "from sklearn.linear_model import LinearRegression\n",
    "from sklearn.linear_model import LassoCV"
   ]
  },
  {
   "cell_type": "code",
   "execution_count": 11,
   "metadata": {},
   "outputs": [],
   "source": [
    "#----- PIPELINE\n",
    "\n",
    "from sklearn.pipeline import make_pipeline"
   ]
  },
  {
   "cell_type": "code",
   "execution_count": 12,
   "metadata": {},
   "outputs": [],
   "source": [
    "# BDT\n",
    "from sklearn.ensemble import AdaBoostClassifier\n",
    "from sklearn.tree import DecisionTreeClassifier"
   ]
  },
  {
   "cell_type": "code",
   "execution_count": 13,
   "metadata": {},
   "outputs": [],
   "source": [
    "# PANDAS    --- Scikit learn plays really well with Pandas\n",
    "import pandas as pd"
   ]
  },
  {
   "cell_type": "code",
   "execution_count": 14,
   "metadata": {},
   "outputs": [],
   "source": [
    "# Now we engenired some features, and we have precisly defined problem, for example make classifier \n",
    "# to select good customers\n",
    "# for this simple example let's say that we know that important features are\n",
    "# cons_price_idx\n",
    "# campaign\n",
    "# pdays\n",
    "# euribor3m"
   ]
  },
  {
   "cell_type": "code",
   "execution_count": 15,
   "metadata": {},
   "outputs": [],
   "source": [
    "dataFrame_y = pd.DataFrame({\n",
    "    'y': y})"
   ]
  },
  {
   "cell_type": "code",
   "execution_count": 16,
   "metadata": {},
   "outputs": [],
   "source": [
    "dataFrame_features = pd.DataFrame({\n",
    "    'x1': cons_price_idx,\n",
    "    'x2': campaign,\n",
    "    'x3': pdays,\n",
    "    'x4': euribor3m,\n",
    "    })"
   ]
  },
  {
   "cell_type": "code",
   "execution_count": 17,
   "metadata": {},
   "outputs": [],
   "source": [
    "dataFrame_all = pd.DataFrame({\n",
    "    'x1': cons_price_idx,\n",
    "    'x2': campaign,\n",
    "    'x3': pdays,\n",
    "    'x4': euribor3m,\n",
    "    'y':y\n",
    "    })"
   ]
  },
  {
   "cell_type": "code",
   "execution_count": 18,
   "metadata": {},
   "outputs": [],
   "source": [
    "# Split the data into training/testing sets \n",
    "# In general it is adviced to split to the train, test, and cross-validation sets\n",
    "X_train, X_test, y_train, y_test = train_test_split(dataFrame_features, y, test_size=0.4, random_state=42)\n",
    "#print(X_train)\n",
    "#print(y_train)"
   ]
  },
  {
   "cell_type": "code",
   "execution_count": 19,
   "metadata": {},
   "outputs": [],
   "source": [
    "# So we have some data frames with four features and label y \n",
    "# Now we can train some models and evaluate them"
   ]
  },
  {
   "cell_type": "code",
   "execution_count": 20,
   "metadata": {},
   "outputs": [],
   "source": [
    "# BDT - Ada Boost Classifier - DecisionTreeClassifier"
   ]
  },
  {
   "cell_type": "code",
   "execution_count": 21,
   "metadata": {},
   "outputs": [
    {
     "data": {
      "text/plain": [
       "AdaBoostClassifier(algorithm='SAMME.R',\n",
       "          base_estimator=DecisionTreeClassifier(class_weight=None, criterion='gini', max_depth=5,\n",
       "            max_features=None, max_leaf_nodes=None, min_samples_leaf=1,\n",
       "            min_samples_split=2, min_weight_fraction_leaf=0.0,\n",
       "            presort=False, random_state=None, splitter='best'),\n",
       "          learning_rate=1.0, n_estimators=5000, random_state=None)"
      ]
     },
     "execution_count": 21,
     "metadata": {},
     "output_type": "execute_result"
    }
   ],
   "source": [
    "bdt = AdaBoostClassifier(DecisionTreeClassifier(max_depth=5),\n",
    "                         algorithm=\"SAMME.R\",\n",
    "                         n_estimators=5000)\n",
    "bdt.fit(X_train, y_train)\n"
   ]
  },
  {
   "cell_type": "code",
   "execution_count": 22,
   "metadata": {},
   "outputs": [],
   "source": [
    "# so I doesn't work :) probably randomly selected feature are not the best for this task :) "
   ]
  },
  {
   "cell_type": "code",
   "execution_count": 23,
   "metadata": {},
   "outputs": [
    {
     "name": "stdout",
     "output_type": "stream",
     "text": [
      "Train Score = 0.921900291356\n"
     ]
    }
   ],
   "source": [
    "train_score = bdt.score(X_train, y_train)\n",
    "print(\"Train Score = \" + str(train_score) )"
   ]
  },
  {
   "cell_type": "code",
   "execution_count": 24,
   "metadata": {},
   "outputs": [],
   "source": [
    "predictions_train = bdt.predict(X_train)"
   ]
  },
  {
   "cell_type": "code",
   "execution_count": 25,
   "metadata": {},
   "outputs": [
    {
     "name": "stdout",
     "output_type": "stream",
     "text": [
      "0.921900291356\n",
      "[[21713   249]\n",
      " [ 1681  1069]]\n",
      "             precision    recall  f1-score   support\n",
      "\n",
      "          0       0.93      0.99      0.96     21962\n",
      "          1       0.81      0.39      0.53      2750\n",
      "\n",
      "avg / total       0.92      0.92      0.91     24712\n",
      "\n"
     ]
    }
   ],
   "source": [
    "print(accuracy_score(y_train, predictions_train))\n",
    "print(confusion_matrix(y_train, predictions_train))\n",
    "print(classification_report(y_train, predictions_train))"
   ]
  },
  {
   "cell_type": "code",
   "execution_count": 26,
   "metadata": {},
   "outputs": [
    {
     "name": "stdout",
     "output_type": "stream",
     "text": [
      "Test Score = 0.889536295217\n"
     ]
    }
   ],
   "source": [
    "test_score = bdt.score(X_test, y_test)\n",
    "print(\"Test Score = \" + str(test_score))"
   ]
  },
  {
   "cell_type": "code",
   "execution_count": 27,
   "metadata": {},
   "outputs": [
    {
     "name": "stdout",
     "output_type": "stream",
     "text": [
      "0.889536295217\n",
      "[[14131   455]\n",
      " [ 1365   525]]\n",
      "             precision    recall  f1-score   support\n",
      "\n",
      "          0       0.91      0.97      0.94     14586\n",
      "          1       0.54      0.28      0.37      1890\n",
      "\n",
      "avg / total       0.87      0.89      0.87     16476\n",
      "\n"
     ]
    }
   ],
   "source": [
    "predictions = bdt.predict(X_test)\n",
    "\n",
    "print(accuracy_score(y_test, predictions))\n",
    "print(confusion_matrix(y_test, predictions))\n",
    "print(classification_report(y_test, predictions))"
   ]
  },
  {
   "cell_type": "code",
   "execution_count": 28,
   "metadata": {},
   "outputs": [],
   "source": [
    "# kNN classifier"
   ]
  },
  {
   "cell_type": "code",
   "execution_count": 29,
   "metadata": {},
   "outputs": [],
   "source": [
    "from sklearn.neighbors import KNeighborsClassifier"
   ]
  },
  {
   "cell_type": "code",
   "execution_count": 30,
   "metadata": {},
   "outputs": [],
   "source": [
    "knn = KNeighborsClassifier(n_neighbors=3)"
   ]
  },
  {
   "cell_type": "code",
   "execution_count": 31,
   "metadata": {},
   "outputs": [
    {
     "data": {
      "text/plain": [
       "KNeighborsClassifier(algorithm='auto', leaf_size=30, metric='minkowski',\n",
       "           metric_params=None, n_jobs=1, n_neighbors=3, p=2,\n",
       "           weights='uniform')"
      ]
     },
     "execution_count": 31,
     "metadata": {},
     "output_type": "execute_result"
    }
   ],
   "source": [
    "knn.fit(X_train, y_train)"
   ]
  },
  {
   "cell_type": "code",
   "execution_count": 32,
   "metadata": {},
   "outputs": [],
   "source": [
    "predictions = knn.predict(X_train)"
   ]
  },
  {
   "cell_type": "code",
   "execution_count": 33,
   "metadata": {},
   "outputs": [
    {
     "name": "stdout",
     "output_type": "stream",
     "text": [
      "0.898834574296\n",
      "[[21111   851]\n",
      " [ 1649  1101]]\n",
      "             precision    recall  f1-score   support\n",
      "\n",
      "          0       0.93      0.96      0.94     21962\n",
      "          1       0.56      0.40      0.47      2750\n",
      "\n",
      "avg / total       0.89      0.90      0.89     24712\n",
      "\n"
     ]
    }
   ],
   "source": [
    "print(accuracy_score(y_train, predictions))\n",
    "print(confusion_matrix(y_train, predictions))\n",
    "print(classification_report(y_train, predictions))"
   ]
  },
  {
   "cell_type": "code",
   "execution_count": 34,
   "metadata": {},
   "outputs": [
    {
     "name": "stdout",
     "output_type": "stream",
     "text": [
      "Train Score = 0.898834574296\n"
     ]
    }
   ],
   "source": [
    "train_score = knn.score(X_train, y_train)\n",
    "print(\"Train Score = \" + str(train_score) )"
   ]
  },
  {
   "cell_type": "code",
   "execution_count": 35,
   "metadata": {},
   "outputs": [],
   "source": [
    "# BDT train score = 0.889839766934\n",
    "# kNN train score = 0.898834574296"
   ]
  },
  {
   "cell_type": "code",
   "execution_count": 36,
   "metadata": {},
   "outputs": [],
   "source": [
    "# ROC curve"
   ]
  },
  {
   "cell_type": "code",
   "execution_count": 37,
   "metadata": {},
   "outputs": [],
   "source": [
    "from sklearn import metrics"
   ]
  },
  {
   "cell_type": "code",
   "execution_count": 38,
   "metadata": {},
   "outputs": [],
   "source": [
    "predictions_test = knn.score(X_test, y_test)"
   ]
  },
  {
   "cell_type": "code",
   "execution_count": 39,
   "metadata": {},
   "outputs": [],
   "source": [
    "y_pred_class = knn.predict(X_test)"
   ]
  },
  {
   "cell_type": "code",
   "execution_count": 43,
   "metadata": {},
   "outputs": [
    {
     "name": "stdout",
     "output_type": "stream",
     "text": [
      "[0 0 0 ..., 0 0 0]\n",
      "[0 1 1 ..., 0 0 0]\n"
     ]
    }
   ],
   "source": [
    "y_test = np.array(y_test.astype(int))\n",
    "y_pred_class = np.array(y_pred_class.astype(int))\n",
    "\n",
    "print(y_pred_class)\n",
    "print(y_test)"
   ]
  },
  {
   "cell_type": "code",
   "execution_count": 44,
   "metadata": {},
   "outputs": [
    {
     "data": {
      "image/png": "[encoded data removed]",
      "text/plain": [
       "<matplotlib.figure.Figure at 0x113f5b410>"
      ]
     },
     "metadata": {},
     "output_type": "display_data"
    }
   ],
   "source": [
    "fpr, tpr, thresholds = metrics.roc_curve(y_test, y_pred_class)\n",
    "\n",
    "plt.plot(fpr, tpr)\n",
    "plt.xlim([0.0, 1.0])\n",
    "plt.ylim([0.0, 1.0])\n",
    "plt.title('ROC curve for knn classifier')\n",
    "plt.xlabel('False Positive Rate (1 - Specificity)')\n",
    "plt.ylabel('True Positive Rate (Sensitivity)')\n",
    "plt.grid(True)\n",
    "plt.show()"
   ]
  },
  {
   "cell_type": "code",
   "execution_count": 45,
   "metadata": {},
   "outputs": [],
   "source": [
    "# SVM classifier "
   ]
  },
  {
   "cell_type": "code",
   "execution_count": 46,
   "metadata": {},
   "outputs": [],
   "source": [
    "from sklearn.svm import SVC"
   ]
  },
  {
   "cell_type": "code",
   "execution_count": 47,
   "metadata": {},
   "outputs": [],
   "source": [
    "svm = SVC()"
   ]
  },
  {
   "cell_type": "code",
   "execution_count": 48,
   "metadata": {},
   "outputs": [
    {
     "data": {
      "text/plain": [
       "SVC(C=1.0, cache_size=200, class_weight=None, coef0=0.0,\n",
       "  decision_function_shape=None, degree=3, gamma='auto', kernel='rbf',\n",
       "  max_iter=-1, probability=False, random_state=None, shrinking=True,\n",
       "  tol=0.001, verbose=False)"
      ]
     },
     "execution_count": 48,
     "metadata": {},
     "output_type": "execute_result"
    }
   ],
   "source": [
    "svm.fit(X_train, y_train)"
   ]
  },
  {
   "cell_type": "code",
   "execution_count": 49,
   "metadata": {},
   "outputs": [],
   "source": [
    "predictions = svm.predict(X_train)"
   ]
  },
  {
   "cell_type": "code",
   "execution_count": 50,
   "metadata": {},
   "outputs": [
    {
     "name": "stdout",
     "output_type": "stream",
     "text": [
      "0.901141146002\n",
      "[[21733   229]\n",
      " [ 2214   536]]\n",
      "             precision    recall  f1-score   support\n",
      "\n",
      "          0       0.91      0.99      0.95     21962\n",
      "          1       0.70      0.19      0.30      2750\n",
      "\n",
      "avg / total       0.88      0.90      0.88     24712\n",
      "\n"
     ]
    }
   ],
   "source": [
    "print(accuracy_score(y_train, predictions))\n",
    "print(confusion_matrix(y_train, predictions))\n",
    "print(classification_report(y_train, predictions))"
   ]
  },
  {
   "cell_type": "code",
   "execution_count": 51,
   "metadata": {},
   "outputs": [
    {
     "name": "stdout",
     "output_type": "stream",
     "text": [
      "Train Score = 0.901141146002\n"
     ]
    }
   ],
   "source": [
    "train_score = svm.score(X_train, y_train)\n",
    "print(\"Train Score = \" + str(train_score) )"
   ]
  },
  {
   "cell_type": "code",
   "execution_count": 52,
   "metadata": {},
   "outputs": [],
   "source": [
    "# BDT train score = 0.889839766934\n",
    "# kNN train score = 0.898834574296\n",
    "# SVM classifier train score = 0.901141146002"
   ]
  },
  {
   "cell_type": "code",
   "execution_count": 54,
   "metadata": {},
   "outputs": [],
   "source": [
    "predictions_test = svm.score(X_test, y_test)"
   ]
  },
  {
   "cell_type": "code",
   "execution_count": 55,
   "metadata": {},
   "outputs": [],
   "source": [
    "y_pred_class = svm.predict(X_test)"
   ]
  },
  {
   "cell_type": "code",
   "execution_count": 56,
   "metadata": {},
   "outputs": [],
   "source": [
    "y_test = np.array(y_test.astype(int))\n",
    "y_pred_class = np.array(y_pred_class.astype(int))"
   ]
  },
  {
   "cell_type": "code",
   "execution_count": 57,
   "metadata": {},
   "outputs": [
    {
     "data": {
      "image/png": "[encoded data removed]",
      "text/plain": [
       "<matplotlib.figure.Figure at 0x1149cdb50>"
      ]
     },
     "metadata": {},
     "output_type": "display_data"
    }
   ],
   "source": [
    "fpr, tpr, thresholds = metrics.roc_curve(y_test, y_pred_class)\n",
    "\n",
    "plt.plot(fpr, tpr)\n",
    "plt.xlim([0.0, 1.0])\n",
    "plt.ylim([0.0, 1.0])\n",
    "plt.title('ROC curve for SVM classifier')\n",
    "plt.xlabel('False Positive Rate (1 - Specificity)')\n",
    "plt.ylabel('True Positive Rate (Sensitivity)')\n",
    "plt.grid(True)\n",
    "plt.show()"
   ]
  },
  {
   "cell_type": "code",
   "execution_count": 58,
   "metadata": {},
   "outputs": [],
   "source": [
    "# Random Forest Classifier"
   ]
  },
  {
   "cell_type": "code",
   "execution_count": 59,
   "metadata": {},
   "outputs": [],
   "source": [
    "from sklearn.ensemble import RandomForestClassifier"
   ]
  },
  {
   "cell_type": "code",
   "execution_count": 60,
   "metadata": {},
   "outputs": [],
   "source": [
    "rfc = RandomForestClassifier(n_estimators=10)"
   ]
  },
  {
   "cell_type": "code",
   "execution_count": 61,
   "metadata": {},
   "outputs": [
    {
     "data": {
      "text/plain": [
       "RandomForestClassifier(bootstrap=True, class_weight=None, criterion='gini',\n",
       "            max_depth=None, max_features='auto', max_leaf_nodes=None,\n",
       "            min_samples_leaf=1, min_samples_split=2,\n",
       "            min_weight_fraction_leaf=0.0, n_estimators=10, n_jobs=1,\n",
       "            oob_score=False, random_state=None, verbose=0,\n",
       "            warm_start=False)"
      ]
     },
     "execution_count": 61,
     "metadata": {},
     "output_type": "execute_result"
    }
   ],
   "source": [
    "rfc.fit(X_train, y_train)"
   ]
  },
  {
   "cell_type": "code",
   "execution_count": 62,
   "metadata": {},
   "outputs": [],
   "source": [
    "predictions = rfc.predict(X_train)"
   ]
  },
  {
   "cell_type": "code",
   "execution_count": 63,
   "metadata": {},
   "outputs": [
    {
     "name": "stdout",
     "output_type": "stream",
     "text": [
      "0.920160246034\n",
      "[[21671   291]\n",
      " [ 1682  1068]]\n",
      "             precision    recall  f1-score   support\n",
      "\n",
      "          0       0.93      0.99      0.96     21962\n",
      "          1       0.79      0.39      0.52      2750\n",
      "\n",
      "avg / total       0.91      0.92      0.91     24712\n",
      "\n"
     ]
    }
   ],
   "source": [
    "print(accuracy_score(y_train, predictions))\n",
    "print(confusion_matrix(y_train, predictions))\n",
    "print(classification_report(y_train, predictions))"
   ]
  },
  {
   "cell_type": "code",
   "execution_count": 64,
   "metadata": {},
   "outputs": [
    {
     "name": "stdout",
     "output_type": "stream",
     "text": [
      "Train Score = 0.920160246034\n"
     ]
    }
   ],
   "source": [
    "train_score = rfc.score(X_train, y_train)\n",
    "print(\"Train Score = \" + str(train_score) )"
   ]
  },
  {
   "cell_type": "code",
   "execution_count": 65,
   "metadata": {},
   "outputs": [],
   "source": [
    "# BDT train score = 0.889839766934\n",
    "# kNN train score = 0.898834574296\n",
    "# SVM classifier train score = 0.901141146002\n",
    "# Random Forest classifier train score = 0.920160246034"
   ]
  },
  {
   "cell_type": "code",
   "execution_count": 66,
   "metadata": {},
   "outputs": [],
   "source": [
    "predictions_test = rfc.score(X_test, y_test)"
   ]
  },
  {
   "cell_type": "code",
   "execution_count": 67,
   "metadata": {},
   "outputs": [],
   "source": [
    "y_pred_class = rfc.predict(X_test)"
   ]
  },
  {
   "cell_type": "code",
   "execution_count": 68,
   "metadata": {},
   "outputs": [],
   "source": [
    "y_test = np.array(y_test.astype(int))\n",
    "y_pred_class = np.array(y_pred_class.astype(int))"
   ]
  },
  {
   "cell_type": "code",
   "execution_count": 69,
   "metadata": {},
   "outputs": [
    {
     "data": {
      "image/png": "[encoded data removed]",
      "text/plain": [
       "<matplotlib.figure.Figure at 0x1150555d0>"
      ]
     },
     "metadata": {},
     "output_type": "display_data"
    }
   ],
   "source": [
    "fpr, tpr, thresholds = metrics.roc_curve(y_test, y_pred_class)\n",
    "\n",
    "plt.plot(fpr, tpr)\n",
    "plt.xlim([0.0, 1.0])\n",
    "plt.ylim([0.0, 1.0])\n",
    "plt.title('ROC curve for Random Forest classifier')\n",
    "plt.xlabel('False Positive Rate (1 - Specificity)')\n",
    "plt.ylabel('True Positive Rate (Sensitivity)')\n",
    "plt.grid(True)\n",
    "plt.show()"
   ]
  }
 ],
 "metadata": {
  "kernelspec": {
   "display_name": "Python 3",
   "language": "python",
   "name": "python3"
  },
  "language_info": {
   "codemirror_mode": {
    "name": "ipython",
    "version": 3
   },
   "file_extension": ".py",
   "mimetype": "text/x-python",
   "name": "python",
   "nbconvert_exporter": "python",
   "pygments_lexer": "ipython3",
   "version": "3.6.5"
  }
 },
 "nbformat": 4,
 "nbformat_minor": 2
}
